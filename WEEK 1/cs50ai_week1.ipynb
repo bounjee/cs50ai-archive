{
 "cells": [
  {
   "attachments": {},
   "cell_type": "markdown",
   "metadata": {},
   "source": [
    "# Search"
   ]
  },
  {
   "attachments": {},
   "cell_type": "markdown",
   "metadata": {},
   "source": [
    "## Artificial Intelligence\n",
    "\n",
    "Artificial Intelligence (AI) covers a range of techniques that appear as sentient behavior by the computer. For example, AI is used to recognize faces in photographs on your social media, beat the World’s Champion in chess, and process your speech when you speak to Siri or Alexa on your phone.\n",
    "\n"
   ]
  },
  {
   "attachments": {},
   "cell_type": "markdown",
   "metadata": {},
   "source": [
    "**Search:** Finding a solution to a problem, like a navigator app that finds the best route from your origin to the destination, or like playing a game and figuring out the next move.\n",
    "\n",
    "**Knowledge[Bilgi]:**\n",
    "Representing information and drawing inferences from it.\n",
    "\n",
    "**Uncertainty[Belirsizlik]:**\n",
    "Dealing with uncertain events using probability.\n",
    "\n",
    "**Optimization:**\n",
    "Finding not only a correct way to solve a problem, but a better—or the best—way to solve it.\n",
    "\n",
    "**Learning:**\n",
    "Improving performance based on access to data and experience. For example, your email is able to distinguish spam from non-spam mail based on past experience.\n",
    "\n",
    "**Neural Networks[Nöral ağlar]:**\n",
    "A program structure inspired by the human brain that is able to perform tasks effectively.\n",
    "\n",
    "**Language:**\n",
    "Processing natural language, which is produced and understood by humans."
   ]
  },
  {
   "attachments": {},
   "cell_type": "markdown",
   "metadata": {},
   "source": [
    "-------------------"
   ]
  },
  {
   "attachments": {},
   "cell_type": "markdown",
   "metadata": {},
   "source": [
    "\n",
    "**Agent:**\n",
    "\n",
    "An entity that perceives its environment and acts upon that environment. In a navigator app, for example, the agent would be a representation of a car that needs to decide on which actions to take to arrive at the destination.\n",
    "\n",
    "**State:**\n",
    "\n",
    "A configuration of an agent in its environment. For example, in a 15 puzzle, a state is any one way that all the numbers are arranged on the board.\n",
    "\n",
    "**Initial State:**\n",
    "\n",
    "The state from which the search algorithm starts. In a navigator app, that would be the current location.\n",
    "\n",
    "**Actions:**\n",
    "\n",
    "Choices that can be made in a state. More precisely, actions can be defined as a function. Upon receiving state s as input, Actions(s) returns as output the set of actions that can be executed in state s. For example, in a 15 puzzle, the actions of a given state are the ways you can slide squares in the current configuration (4 if the empty square is in the middle, 3 if next to a side, 2 if in the corner).\n",
    "\n",
    "**Transition Model[Geçiş Modeli]:**\n",
    "\n",
    "A description of what state results from performing any applicable action in any state. More precisely, the transition model can be defined as a function. Upon receiving state s and action a as input, Results(s, a) returns the state resulting from performing action a in state s. For example, given a certain configuration of a 15 puzzle (state s), moving a square in any direction (action a) will bring to a new configuration of the puzzle (the new state).\n",
    "\n",
    "**State Space[Durum Alanı]:**\n",
    "\n",
    "The set of all states reachable from the initial state by any sequence of actions. For example, in a 15 puzzle, the state space consists of all the 16!/2 configurations on the board that can be reached from any initial state. The state space can be visualized as a directed graph with states, represented as nodes, and actions, represented as arrows between nodes.\n",
    "\n",
    "**Goal Test:**\n",
    "\n",
    "The condition that determines whether a given state is a goal state. For example, in a navigator app, the goal test would be whether the current location of the agent (the representation of the car) is at the destination. If it is — problem solved. If it’s not — we continue searching.\n",
    "\n",
    "**Path Cost:**\n",
    "\n",
    "A numerical cost associated with a given path. For example, a navigator app does not simply bring you to your goal; it does so while minimizing the path cost, finding the fastest way possible for you to get to your goal state."
   ]
  },
  {
   "attachments": {},
   "cell_type": "markdown",
   "metadata": {},
   "source": [
    "-------------"
   ]
  },
  {
   "attachments": {},
   "cell_type": "markdown",
   "metadata": {},
   "source": [
    "In a search process, data is often stored in a **node**, a data structure that contains the following data:\n",
    "\n",
    "- A state\n",
    "- Its parent node, through which the current node was generated\n",
    "- The action that was applied to the state of the parent to get to the current node\n",
    "- The path cost from the initial state to this node"
   ]
  },
  {
   "attachments": {},
   "cell_type": "markdown",
   "metadata": {},
   "source": [
    "-------------"
   ]
  },
  {
   "attachments": {},
   "cell_type": "markdown",
   "metadata": {},
   "source": [
    "## Solving Search Problems"
   ]
  },
  {
   "attachments": {},
   "cell_type": "markdown",
   "metadata": {},
   "source": [
    "**DFS[Depth-First Search]:** Derin öncelikli arama, ağaç ya da çizge veri yapılarında arama yapmak için kullanılan bir algoritmadır. Algoritma aramaya başladığı düğümden ulaşabileceği en derin düğüme kadar gider, gidecek daha derin bir düğüm kalmadığında geri sarar ve derin düğümlere öncelik vererek gezmeye devam eder.\n",
    "\n",
    "**BFS[Breadth-First Search]:** Sığ öncelikli arama ya da enine arama, bir çizgenin düğümlerini, başlangıç noktasına daha yakın olanlara öncelik vererek arayan bir algoritmadır. Algoritma ziyaret ettiği düğümlerin bütün komşularını bir kuyruğa ekler ve ziyaret edeceği düğümleri kuyruktaki sıraya göre seçer.\n",
    "\n",
    "**GBFS[Greedy Best-First Search]:** Sonuca olan yolun (x,y) eksenine uzaklığına göre hareket eder.\n",
    "\n",
    "**A\\* Search:** Sonuca olan yolun (x,y) eksenine uzaklığına ve attığı adım sayısının toplamına göre hareket eder.\n",
    "\n",
    "**DFS:** İki yolu olan bir labirente girdiğinde bir yolu tamamen bitirerek diğer yola geçer. -- Eğer şanslı ise en hızlı olan yoldur.\n",
    "\n",
    "**BFS:** İki yolu olan bir labirente girdiğinde her iki yoldan da adımlar atarak doğru yolu bulmaya çalışır. -- Uzun sürer fakat çıkışı kesin bulur.\n",
    "\n",
    "*NOT:* [Bu linkten](https://www.youtube.com/watch?v=cPTgB3UeECk) DFS ve BFS farkına bakabilirsiniz."
   ]
  },
  {
   "attachments": {},
   "cell_type": "markdown",
   "metadata": {},
   "source": [
    "----------------\n"
   ]
  },
  {
   "attachments": {},
   "cell_type": "markdown",
   "metadata": {},
   "source": [
    "# Adversarial Search[Düşman Arama]"
   ]
  },
  {
   "attachments": {},
   "cell_type": "markdown",
   "metadata": {},
   "source": [
    "Genellikle, çekişmeli aramayı kullanan yapay zekaya tic tac toe gibi oyunlarda rastlanır."
   ]
  },
  {
   "attachments": {},
   "cell_type": "markdown",
   "metadata": {},
   "source": [
    "**Minimax:** Rakip aramada bir algoritma türü olan Minimax, kazanma koşullarını bir taraf için (-1) ve diğer taraf için (+1) olarak temsil eder. Küçültücü taraf en düşük puanı almaya çalışırken ve maksimize eden taraf en yüksek puanı almaya çalışırken, diğer eylemler bu koşullar tarafından yönlendirilecektir.\n",
    "\n",
    "**Alpha-Beta Pruning:** Arama ağacında minimax algoritması tarafından değerlendirilen düğüm sayısını azaltmayı amaçlayan bir arama algoritmasıdır. İki oyunculu oyunların makineyle oynanması için yaygın olarak kullanılan bir rakip arama algoritmasıdır.\n",
    "\n",
    "**Depth-Limited Minimax:** Bu algoritma esas olarak derin öncelikli arama (depth first search DFS) ile aynı çalışmaktadır ancak tek farkı arama işlemi sırasında özellikle dairelere (cycles) takılma ihtimaline karşı sınır önlemi alınmış olmasıdır"
   ]
  },
  {
   "cell_type": "markdown",
   "metadata": {},
   "source": []
  }
 ],
 "metadata": {
  "language_info": {
   "name": "python"
  },
  "orig_nbformat": 4
 },
 "nbformat": 4,
 "nbformat_minor": 2
}
